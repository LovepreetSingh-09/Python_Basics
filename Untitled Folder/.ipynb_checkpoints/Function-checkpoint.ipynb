{
 "cells": [
  {
   "cell_type": "code",
   "execution_count": 1,
   "id": "0c4d66e3",
   "metadata": {},
   "outputs": [],
   "source": [
    "def percent(marks):\n",
    "    p = (sum(marks)/400)*100\n",
    "    return p"
   ]
  },
  {
   "cell_type": "code",
   "execution_count": 2,
   "id": "8a53dd07",
   "metadata": {},
   "outputs": [
    {
     "name": "stdout",
     "output_type": "stream",
     "text": [
      "71.5\n"
     ]
    }
   ],
   "source": [
    "marks = [45, 78,86, 77]\n",
    "print(percent(marks))"
   ]
  },
  {
   "cell_type": "code",
   "execution_count": 3,
   "id": "886f57dc",
   "metadata": {},
   "outputs": [],
   "source": [
    "def func1(a):\n",
    "    pass"
   ]
  },
  {
   "cell_type": "code",
   "execution_count": 4,
   "id": "76bfca35",
   "metadata": {},
   "outputs": [],
   "source": [
    "def myfunction(fname, lname):\n",
    "    print(fname+\"****\"+lname)"
   ]
  },
  {
   "cell_type": "code",
   "execution_count": 5,
   "id": "871ffbed",
   "metadata": {},
   "outputs": [
    {
     "data": {
      "text/plain": [
       "[1, 2, 3, 4, 5, 6, 7, 8, 9, 10]"
      ]
     },
     "execution_count": 5,
     "metadata": {},
     "output_type": "execute_result"
    }
   ],
   "source": [
    "li=[1]\n",
    "for i in range(2,11):\n",
    "    li.append(i)\n",
    "li"
   ]
  },
  {
   "cell_type": "code",
   "execution_count": 6,
   "id": "aec38ab2",
   "metadata": {},
   "outputs": [
    {
     "data": {
      "text/plain": [
       "10"
      ]
     },
     "execution_count": 6,
     "metadata": {},
     "output_type": "execute_result"
    }
   ],
   "source": [
    "def sum2(a, b, c=1, d=2):\n",
    "    return(a+b+c+d)\n",
    "sum2(3, 4)"
   ]
  },
  {
   "cell_type": "code",
   "execution_count": 11,
   "id": "a0951b48",
   "metadata": {},
   "outputs": [],
   "source": [
    "def func1(*args):\n",
    "    for item in args:\n",
    "        print(item)"
   ]
  },
  {
   "cell_type": "code",
   "execution_count": 12,
   "id": "b74d6621",
   "metadata": {},
   "outputs": [
    {
     "name": "stdout",
     "output_type": "stream",
     "text": [
      "Rohit\n",
      "Sanchit\n",
      "Gony\n"
     ]
    }
   ],
   "source": [
    "l2 = [\"Rohit\", \"Sanchit\", \"Gony\"]\n",
    "func1(*l2)"
   ]
  },
  {
   "cell_type": "markdown",
   "id": "ef193d2f",
   "metadata": {},
   "source": [
    "****Recursion****"
   ]
  },
  {
   "cell_type": "code",
   "execution_count": 16,
   "id": "440d96bc",
   "metadata": {},
   "outputs": [],
   "source": [
    "def fact_rec1(n):\n",
    "    if n==0 or n==1:\n",
    "        return 1\n",
    "    return n*fact_rec1(n-1)"
   ]
  },
  {
   "cell_type": "code",
   "execution_count": 17,
   "id": "a0de84e0",
   "metadata": {},
   "outputs": [
    {
     "data": {
      "text/plain": [
       "120"
      ]
     },
     "execution_count": 17,
     "metadata": {},
     "output_type": "execute_result"
    }
   ],
   "source": [
    "fact_rec1(5)"
   ]
  },
  {
   "cell_type": "code",
   "execution_count": null,
   "id": "9d01fd3d",
   "metadata": {},
   "outputs": [],
   "source": []
  }
 ],
 "metadata": {
  "kernelspec": {
   "display_name": "Python 3 (ipykernel)",
   "language": "python",
   "name": "python3"
  },
  "language_info": {
   "codemirror_mode": {
    "name": "ipython",
    "version": 3
   },
   "file_extension": ".py",
   "mimetype": "text/x-python",
   "name": "python",
   "nbconvert_exporter": "python",
   "pygments_lexer": "ipython3",
   "version": "3.9.12"
  }
 },
 "nbformat": 4,
 "nbformat_minor": 5
}
