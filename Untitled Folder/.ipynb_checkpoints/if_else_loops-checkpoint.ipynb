{
 "cells": [
  {
   "cell_type": "code",
   "execution_count": 3,
   "id": "d2841c9e",
   "metadata": {},
   "outputs": [],
   "source": [
    "import sklearn\n",
    "import numpy\n",
    "import pandas\n",
    "import matplotlib"
   ]
  },
  {
   "cell_type": "code",
   "execution_count": 4,
   "id": "05bf12f1",
   "metadata": {},
   "outputs": [
    {
     "name": "stdout",
     "output_type": "stream",
     "text": [
      "No\n",
      "This is not part of if and else\n"
     ]
    }
   ],
   "source": [
    "a = 15\n",
    "if(a<15):\n",
    "    print(\"Yes\")\n",
    "else:\n",
    "    print(\"No\")\n",
    "print(\"This is not part of if and else\")"
   ]
  },
  {
   "cell_type": "code",
   "execution_count": 7,
   "id": "ef127d26",
   "metadata": {},
   "outputs": [
    {
     "name": "stdout",
     "output_type": "stream",
     "text": [
      "Enter the number5\n",
      "Value not greater than 7\n"
     ]
    }
   ],
   "source": [
    "a = int(input(\"Enter the number.....\"))\n",
    "if(a<3):\n",
    "    print(\"The value is smaller than 3\")\n",
    "elif(a>13):\n",
    "    print(\"Greater than 13\")\n",
    "elif(a>17):\n",
    "    print(\"Greater than 17\")\n",
    "else:\n",
    "    print(\"Value not greater than 7\")"
   ]
  },
  {
   "cell_type": "code",
   "execution_count": 13,
   "id": "c4380dc7",
   "metadata": {},
   "outputs": [
    {
     "name": "stdout",
     "output_type": "stream",
     "text": [
      "Enter age.....12\n",
      "You cannot\n"
     ]
    }
   ],
   "source": [
    "age = int(input(\"Enter age.....\"))\n",
    "if(age>14 and age<56):\n",
    "    print(\"You can work with us\")\n",
    "else:\n",
    "    print(\"You cannot\")"
   ]
  },
  {
   "cell_type": "code",
   "execution_count": 15,
   "id": "1d5a4ef9",
   "metadata": {},
   "outputs": [
    {
     "name": "stdout",
     "output_type": "stream",
     "text": [
      "No. 1\n",
      "No. 2\n",
      "No. 3\n",
      "No. 4\n",
      "No. 5\n",
      "Done\n"
     ]
    }
   ],
   "source": [
    "i=1\n",
    "while i<=5:\n",
    "    print(\"No. \" + str(i))\n",
    "    i+=1\n",
    "print(\"Done\")"
   ]
  },
  {
   "cell_type": "code",
   "execution_count": 17,
   "id": "747d1f7d",
   "metadata": {},
   "outputs": [
    {
     "name": "stdout",
     "output_type": "stream",
     "text": [
      "Yes 2\n",
      "Yes 4\n",
      "Yes 6\n",
      "Yes 8\n"
     ]
    }
   ],
   "source": [
    "i=1\n",
    "while(i<10):\n",
    "    if (i%2==0):\n",
    "        print(\"Yes \" + str(i))\n",
    "    i +=1"
   ]
  },
  {
   "cell_type": "code",
   "execution_count": 20,
   "id": "dfb4cba7",
   "metadata": {},
   "outputs": [
    {
     "name": "stdout",
     "output_type": "stream",
     "text": [
      "banana\n",
      "watermelon\n",
      "grapes\n",
      "Mangoes\n"
     ]
    }
   ],
   "source": [
    "fruits = [\"banana\", \"watermelon\", \"grapes\", \"Mangoes\"]\n",
    "i=0\n",
    "while i<len(fruits):\n",
    "    print(fruits[i])\n",
    "    i += 1"
   ]
  },
  {
   "cell_type": "code",
   "execution_count": 23,
   "id": "0465c119",
   "metadata": {},
   "outputs": [
    {
     "name": "stdout",
     "output_type": "stream",
     "text": [
      "8\n",
      "6\n",
      "4\n",
      "2\n"
     ]
    }
   ],
   "source": [
    "for i in range(8, 1, -2):\n",
    "    print(i)"
   ]
  },
  {
   "cell_type": "code",
   "execution_count": 25,
   "id": "0183fa78",
   "metadata": {},
   "outputs": [
    {
     "name": "stdout",
     "output_type": "stream",
     "text": [
      "0\n",
      "1\n",
      "2\n",
      "3\n",
      "4\n",
      "5\n",
      "Hi\n"
     ]
    }
   ],
   "source": [
    "for i in range(10):\n",
    "    print(i)\n",
    "    if i==5:\n",
    "        break\n",
    "else:\n",
    "    print(\"Inside for loop\")\n",
    "print(\"Hi\")"
   ]
  },
  {
   "cell_type": "code",
   "execution_count": 29,
   "id": "1c7e0f14",
   "metadata": {},
   "outputs": [
    {
     "name": "stdout",
     "output_type": "stream",
     "text": [
      "0\n",
      "1\n",
      "3\n",
      "4\n",
      "Hi\n"
     ]
    }
   ],
   "source": [
    "for i in range(5):\n",
    "    if i==2:\n",
    "        continue\n",
    "    print(i)\n",
    "print(\"Hi\")"
   ]
  },
  {
   "cell_type": "code",
   "execution_count": 32,
   "id": "6a45f835",
   "metadata": {},
   "outputs": [
    {
     "name": "stdout",
     "output_type": "stream",
     "text": [
      "Good Morning harry\n",
      "Good Morning Sonia\n",
      "Good Morning Sanchit\n",
      "Good Morning Rahul\n"
     ]
    }
   ],
   "source": [
    "li = [\"harry\", \"Sonia\", \"Sanchit\", \"Rahul\"]\n",
    "\n",
    "greeting = \"Good Morning \"\n",
    "for i in range(len(li)):\n",
    "    print(greeting + li[i])"
   ]
  },
  {
   "cell_type": "code",
   "execution_count": null,
   "id": "56c68bec",
   "metadata": {},
   "outputs": [],
   "source": []
  }
 ],
 "metadata": {
  "kernelspec": {
   "display_name": "Python 3 (ipykernel)",
   "language": "python",
   "name": "python3"
  },
  "language_info": {
   "codemirror_mode": {
    "name": "ipython",
    "version": 3
   },
   "file_extension": ".py",
   "mimetype": "text/x-python",
   "name": "python",
   "nbconvert_exporter": "python",
   "pygments_lexer": "ipython3",
   "version": "3.9.12"
  }
 },
 "nbformat": 4,
 "nbformat_minor": 5
}
