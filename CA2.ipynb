{
 "cells": [
  {
   "cell_type": "markdown",
   "id": "a38008e4",
   "metadata": {},
   "source": [
    "## Q. 1"
   ]
  },
  {
   "cell_type": "code",
   "execution_count": 105,
   "id": "33270170",
   "metadata": {},
   "outputs": [
    {
     "name": "stdout",
     "output_type": "stream",
     "text": [
      "1 \n",
      "2 3 \n",
      "4 5 6 \n",
      "7 8 9 10 \n",
      "11 12 13 14 15 \n"
     ]
    }
   ],
   "source": [
    "c=1\n",
    "for i in range(1,6):\n",
    "    for j in range(i):\n",
    "        print(c, end=\" \")  \n",
    "        c = c + 1\n",
    "    print()"
   ]
  },
  {
   "cell_type": "markdown",
   "id": "6ad04287",
   "metadata": {},
   "source": [
    "## 2."
   ]
  },
  {
   "cell_type": "code",
   "execution_count": 2,
   "id": "fe32b7af",
   "metadata": {},
   "outputs": [],
   "source": [
    "def addition(n):\n",
    "    if n>0:\n",
    "        return n + addition(n-1)\n",
    "    else:\n",
    "        return n"
   ]
  },
  {
   "cell_type": "code",
   "execution_count": 3,
   "id": "29006f61",
   "metadata": {},
   "outputs": [
    {
     "data": {
      "text/plain": [
       "10"
      ]
     },
     "execution_count": 3,
     "metadata": {},
     "output_type": "execute_result"
    }
   ],
   "source": [
    "addition(4)"
   ]
  },
  {
   "cell_type": "markdown",
   "id": "23f52259",
   "metadata": {},
   "source": [
    "## 3."
   ]
  },
  {
   "cell_type": "code",
   "execution_count": 29,
   "id": "c1d58a3c",
   "metadata": {},
   "outputs": [
    {
     "data": {
      "text/plain": [
       "array([ 0.51214808, -0.56172415,  0.71041841, -0.44871755, -1.09367065])"
      ]
     },
     "execution_count": 29,
     "metadata": {},
     "output_type": "execute_result"
    }
   ],
   "source": [
    "import numpy as np\n",
    "rand_n = np.random.randn(5)\n",
    "rand_n"
   ]
  },
  {
   "cell_type": "code",
   "execution_count": 103,
   "id": "e26f7c15",
   "metadata": {},
   "outputs": [
    {
     "name": "stdout",
     "output_type": "stream",
     "text": [
      "Array is .... [4 5 9 9 9 4 6 1 9 3]\n",
      "Most frequent value .... 9\n"
     ]
    }
   ],
   "source": [
    "arr = np.random.randint(1, 10, size=(10))\n",
    "print(\"Array is ....\", arr)\n",
    "mf = np.argmax(np.bincount(arr))\n",
    "print(\"Most frequent value ....\", mf)"
   ]
  },
  {
   "cell_type": "code",
   "execution_count": 104,
   "id": "004901b1",
   "metadata": {},
   "outputs": [
    {
     "name": "stdout",
     "output_type": "stream",
     "text": [
      "Most frequent value .... 9\n"
     ]
    }
   ],
   "source": [
    "freq = {}\n",
    "for num in arr:\n",
    "    if num in freq.keys():\n",
    "        freq[num] += 1\n",
    "    else:\n",
    "        freq[num] = 1\n",
    "\n",
    "maxi =(0, 0)\n",
    "for k, v in freq.items():\n",
    "    if v>maxi[1]:\n",
    "        maxi = k, v\n",
    "print(\"Most frequent value ....\", maxi[0])"
   ]
  },
  {
   "cell_type": "markdown",
   "id": "d6251363",
   "metadata": {},
   "source": [
    "## 4."
   ]
  },
  {
   "cell_type": "code",
   "execution_count": 30,
   "id": "a70b0f73",
   "metadata": {},
   "outputs": [],
   "source": [
    "class myclass:\n",
    "    def __init__(self, num):\n",
    "        self.mynum = 7\n",
    "    def add_new(self, a):\n",
    "        print(self.mynum + a)"
   ]
  },
  {
   "cell_type": "code",
   "execution_count": 31,
   "id": "3e527d03",
   "metadata": {},
   "outputs": [],
   "source": [
    "obj = myclass(7)"
   ]
  },
  {
   "cell_type": "code",
   "execution_count": 32,
   "id": "c797ead6",
   "metadata": {},
   "outputs": [
    {
     "name": "stdout",
     "output_type": "stream",
     "text": [
      "12\n"
     ]
    }
   ],
   "source": [
    "obj.add_new(5)"
   ]
  },
  {
   "cell_type": "code",
   "execution_count": 33,
   "id": "92a01263",
   "metadata": {},
   "outputs": [
    {
     "data": {
      "text/plain": [
       "7"
      ]
     },
     "execution_count": 33,
     "metadata": {},
     "output_type": "execute_result"
    }
   ],
   "source": [
    "self_num = obj.mynum\n",
    "self_num"
   ]
  },
  {
   "cell_type": "markdown",
   "id": "2817293f",
   "metadata": {},
   "source": [
    "## 5."
   ]
  },
  {
   "cell_type": "code",
   "execution_count": 82,
   "id": "613bf2b9",
   "metadata": {},
   "outputs": [],
   "source": [
    "class myclass2:\n",
    "    def __init__(self, num):\n",
    "        self.mynum = num\n",
    "    \n",
    "    @staticmethod\n",
    "    def add_new(a):\n",
    "        print(a)\n",
    "    \n",
    "    def add_n(self, n1):\n",
    "        print(self.mynum + n1)"
   ]
  },
  {
   "cell_type": "code",
   "execution_count": 83,
   "id": "9f3d5e32",
   "metadata": {},
   "outputs": [
    {
     "name": "stdout",
     "output_type": "stream",
     "text": [
      "5\n",
      "2\n"
     ]
    }
   ],
   "source": [
    "obj2 = myclass2(2)\n",
    "obj2.add_new(5)\n",
    "print(obj2.mynum)"
   ]
  },
  {
   "cell_type": "code",
   "execution_count": 84,
   "id": "b996da74",
   "metadata": {},
   "outputs": [
    {
     "name": "stdout",
     "output_type": "stream",
     "text": [
      "7\n"
     ]
    }
   ],
   "source": [
    "obj2.add_n(5)"
   ]
  },
  {
   "cell_type": "markdown",
   "id": "68ba6db9",
   "metadata": {},
   "source": [
    "## 6."
   ]
  },
  {
   "cell_type": "code",
   "execution_count": 27,
   "id": "d600603e",
   "metadata": {},
   "outputs": [
    {
     "name": "stdout",
     "output_type": "stream",
     "text": [
      "[[0. 0. 0. 0. 0.]\n",
      " [0. 0. 0. 0. 0.]\n",
      " [0. 0. 0. 0. 0.]]\n"
     ]
    }
   ],
   "source": [
    "zeros = np.zeros(shape = (3, 5))\n",
    "print(zeros)"
   ]
  },
  {
   "cell_type": "code",
   "execution_count": 28,
   "id": "363b8f07",
   "metadata": {},
   "outputs": [
    {
     "name": "stdout",
     "output_type": "stream",
     "text": [
      "[[1. 1. 1. 1. 1.]\n",
      " [1. 1. 1. 1. 1.]\n",
      " [1. 1. 1. 1. 1.]]\n"
     ]
    }
   ],
   "source": [
    "ones = np.ones(shape=(3, 5))\n",
    "print(ones)"
   ]
  },
  {
   "cell_type": "code",
   "execution_count": null,
   "id": "9f66f360",
   "metadata": {},
   "outputs": [],
   "source": []
  }
 ],
 "metadata": {
  "kernelspec": {
   "display_name": "Python 3 (ipykernel)",
   "language": "python",
   "name": "python3"
  },
  "language_info": {
   "codemirror_mode": {
    "name": "ipython",
    "version": 3
   },
   "file_extension": ".py",
   "mimetype": "text/x-python",
   "name": "python",
   "nbconvert_exporter": "python",
   "pygments_lexer": "ipython3",
   "version": "3.9.12"
  }
 },
 "nbformat": 4,
 "nbformat_minor": 5
}
