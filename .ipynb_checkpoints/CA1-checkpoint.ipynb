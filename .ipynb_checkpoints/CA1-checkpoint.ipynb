{
 "cells": [
  {
   "cell_type": "markdown",
   "id": "1a3ad310",
   "metadata": {},
   "source": [
    "## Question 1"
   ]
  },
  {
   "cell_type": "code",
   "execution_count": 70,
   "id": "92a57f59",
   "metadata": {},
   "outputs": [],
   "source": [
    "name = \"Lovepreet\"\n",
    "data = \"Congratulations for the new job\""
   ]
  },
  {
   "cell_type": "code",
   "execution_count": 71,
   "id": "2cdb7f30",
   "metadata": {},
   "outputs": [],
   "source": [
    "letter = '''Dear {},\\n\\t you are selected !\\n{}'''.format(name, data)"
   ]
  },
  {
   "cell_type": "code",
   "execution_count": 72,
   "id": "ac87ca5a",
   "metadata": {},
   "outputs": [
    {
     "name": "stdout",
     "output_type": "stream",
     "text": [
      "Dear Lovepreet,\n",
      "\t you are selected !\n",
      "Congratulations for the new job\n"
     ]
    }
   ],
   "source": [
    "print(letter)"
   ]
  },
  {
   "cell_type": "markdown",
   "id": "77e867f5",
   "metadata": {},
   "source": [
    "## Question 2"
   ]
  },
  {
   "cell_type": "code",
   "execution_count": 74,
   "id": "fbce2492",
   "metadata": {},
   "outputs": [
    {
     "name": "stdout",
     "output_type": "stream",
     "text": [
      "Enter the 1 number : 6\n",
      "Enter the 2 number : 7\n",
      "Enter the 3 number : 2\n",
      "Enter the 4 number : 5\n",
      "List is ... [6, 7, 2, 5]\n"
     ]
    }
   ],
   "source": [
    "li = []\n",
    "\n",
    "for i in range(4):\n",
    "    a = int(input(\"Enter the {} number : \".format(i+1)))\n",
    "    li.append(a)\n",
    "\n",
    "print(\"List is ...\", li)"
   ]
  },
  {
   "cell_type": "code",
   "execution_count": 75,
   "id": "0a3dc56c",
   "metadata": {},
   "outputs": [
    {
     "name": "stdout",
     "output_type": "stream",
     "text": [
      "Sum of list is ..... 20\n"
     ]
    }
   ],
   "source": [
    "print(\"Sum of list is .....\", sum(li))"
   ]
  },
  {
   "cell_type": "code",
   "execution_count": 76,
   "id": "4c47b551",
   "metadata": {},
   "outputs": [
    {
     "name": "stdout",
     "output_type": "stream",
     "text": [
      "Sum of list is .... 20\n"
     ]
    }
   ],
   "source": [
    "x = 0\n",
    "\n",
    "for i in range(len(li)):\n",
    "    x += li[i]\n",
    "\n",
    "print(\"Sum of list is ....\", x)"
   ]
  },
  {
   "cell_type": "markdown",
   "id": "430826dd",
   "metadata": {},
   "source": [
    "## Question 3"
   ]
  },
  {
   "cell_type": "code",
   "execution_count": 28,
   "id": "313ee5f3",
   "metadata": {},
   "outputs": [],
   "source": [
    "class Myclass:\n",
    "    def __init__(self):\n",
    "        print(\"Object Created\")\n",
    "    def printname(self, a):\n",
    "        print(\"Hello \", a)"
   ]
  },
  {
   "cell_type": "code",
   "execution_count": 32,
   "id": "92ddf7a0",
   "metadata": {},
   "outputs": [
    {
     "data": {
      "text/plain": [
       "__main__.Myclass"
      ]
     },
     "execution_count": 32,
     "metadata": {},
     "output_type": "execute_result"
    }
   ],
   "source": [
    "Myclass"
   ]
  },
  {
   "cell_type": "code",
   "execution_count": 29,
   "id": "10e40f4d",
   "metadata": {},
   "outputs": [
    {
     "name": "stdout",
     "output_type": "stream",
     "text": [
      "Object Created\n"
     ]
    }
   ],
   "source": [
    "myobject = Myclass()"
   ]
  },
  {
   "cell_type": "code",
   "execution_count": 79,
   "id": "d5cb695d",
   "metadata": {},
   "outputs": [
    {
     "name": "stdout",
     "output_type": "stream",
     "text": [
      "Hello  Lovepreet\n"
     ]
    }
   ],
   "source": [
    "myobject.printname(\"Lovepreet\")"
   ]
  },
  {
   "cell_type": "code",
   "execution_count": 33,
   "id": "8ee468fa",
   "metadata": {},
   "outputs": [
    {
     "data": {
      "text/plain": [
       "<__main__.Myclass at 0x177647fd9d0>"
      ]
     },
     "execution_count": 33,
     "metadata": {},
     "output_type": "execute_result"
    }
   ],
   "source": [
    "myobject"
   ]
  },
  {
   "cell_type": "markdown",
   "id": "1a6455a8",
   "metadata": {},
   "source": [
    "## Question 4"
   ]
  },
  {
   "cell_type": "code",
   "execution_count": 35,
   "id": "73436921",
   "metadata": {},
   "outputs": [
    {
     "data": {
      "text/plain": [
       "dict"
      ]
     },
     "execution_count": 35,
     "metadata": {},
     "output_type": "execute_result"
    }
   ],
   "source": [
    "s = {}\n",
    "type(s)"
   ]
  },
  {
   "cell_type": "code",
   "execution_count": 36,
   "id": "8a1b3a85",
   "metadata": {},
   "outputs": [],
   "source": [
    "empset = set()\n",
    "empdict = dict()"
   ]
  },
  {
   "cell_type": "code",
   "execution_count": 63,
   "id": "c4993eb7",
   "metadata": {},
   "outputs": [
    {
     "data": {
      "text/plain": [
       "(set(), {})"
      ]
     },
     "execution_count": 63,
     "metadata": {},
     "output_type": "execute_result"
    }
   ],
   "source": [
    "empset, empdict"
   ]
  },
  {
   "cell_type": "markdown",
   "id": "3b2dcdfc",
   "metadata": {},
   "source": [
    "## Question 5"
   ]
  },
  {
   "cell_type": "code",
   "execution_count": 67,
   "id": "68c046f6",
   "metadata": {},
   "outputs": [],
   "source": [
    "names = [\"Rahul\", \"Abhishek\", \"Rajvir\", \"Karan\", \"Preet\", \"Lovepreet\"]\n",
    "q = \"Karan\""
   ]
  },
  {
   "cell_type": "code",
   "execution_count": 68,
   "id": "dff20729",
   "metadata": {},
   "outputs": [
    {
     "name": "stdout",
     "output_type": "stream",
     "text": [
      "Found, Karan is in the list\n"
     ]
    }
   ],
   "source": [
    "c = 0\n",
    "for name in names:\n",
    "    if name == q:\n",
    "        c+=1\n",
    "        print(\"Found, {} is in the list\".format(q))\n",
    "  \n",
    "if c==0:\n",
    "    print(\"Not Found\")"
   ]
  },
  {
   "cell_type": "code",
   "execution_count": 69,
   "id": "7d6a4f25",
   "metadata": {},
   "outputs": [
    {
     "name": "stdout",
     "output_type": "stream",
     "text": [
      "Found, Karan is in the list\n"
     ]
    }
   ],
   "source": [
    "if q in names:\n",
    "    print(\"Found, {} is in the list\".format(q))\n",
    "else:\n",
    "    print(\"Not found\")"
   ]
  },
  {
   "cell_type": "markdown",
   "id": "db13a065",
   "metadata": {},
   "source": [
    "## Question 6"
   ]
  },
  {
   "cell_type": "code",
   "execution_count": 60,
   "id": "423a78ae",
   "metadata": {},
   "outputs": [
    {
     "name": "stdout",
     "output_type": "stream",
     "text": [
      "1 2 3 4 5 \n",
      "1 2 3 4 \n",
      "1 2 3 \n",
      "1 2 \n",
      "1 \n"
     ]
    }
   ],
   "source": [
    "for i in range(5, 0, -1):\n",
    "    for j in range(i):\n",
    "        print(j +1 ,end =\" \" )\n",
    "    print()"
   ]
  },
  {
   "cell_type": "code",
   "execution_count": 62,
   "id": "20f8b0b0",
   "metadata": {},
   "outputs": [
    {
     "name": "stdout",
     "output_type": "stream",
     "text": [
      "* \n",
      "* * \n",
      "* * * \n",
      "* * * * \n",
      "* * * * * \n"
     ]
    }
   ],
   "source": [
    "for i in range(1, 6):\n",
    "    for j in range(i):\n",
    "        print(\"*\", end=\" \")\n",
    "    print()"
   ]
  },
  {
   "cell_type": "code",
   "execution_count": null,
   "id": "b1396b7a",
   "metadata": {},
   "outputs": [],
   "source": []
  }
 ],
 "metadata": {
  "kernelspec": {
   "display_name": "Python 3 (ipykernel)",
   "language": "python",
   "name": "python3"
  },
  "language_info": {
   "codemirror_mode": {
    "name": "ipython",
    "version": 3
   },
   "file_extension": ".py",
   "mimetype": "text/x-python",
   "name": "python",
   "nbconvert_exporter": "python",
   "pygments_lexer": "ipython3",
   "version": "3.9.12"
  }
 },
 "nbformat": 4,
 "nbformat_minor": 5
}
